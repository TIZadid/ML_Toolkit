{
  "nbformat": 4,
  "nbformat_minor": 0,
  "metadata": {
    "colab": {
      "name": "My Machine Learning notebook.ipynb",
      "provenance": [],
      "collapsed_sections": [],
      "toc_visible": true,
      "authorship_tag": "ABX9TyMMeQCZWi2foA/ZRqR9iHda",
      "include_colab_link": true
    },
    "kernelspec": {
      "name": "python3",
      "display_name": "Python 3"
    },
    "language_info": {
      "name": "python"
    }
  },
  "cells": [
    {
      "cell_type": "markdown",
      "metadata": {
        "id": "view-in-github",
        "colab_type": "text"
      },
      "source": [
        "<a href=\"https://colab.research.google.com/github/TIZadid/ML_Toolkit/blob/main/My_Machine_Learning_notebook.ipynb\" target=\"_parent\"><img src=\"https://colab.research.google.com/assets/colab-badge.svg\" alt=\"Open In Colab\"/></a>"
      ]
    },
    {
      "cell_type": "markdown",
      "metadata": {
        "id": "CWIsBkE31BgM"
      },
      "source": [
        "# Packages"
      ]
    },
    {
      "cell_type": "code",
      "metadata": {
        "id": "gZ4Gl3zi1FcO"
      },
      "source": [
        "import pandas as pd\n",
        "import numpy as np\n",
        "import matplotlib as plt"
      ],
      "execution_count": null,
      "outputs": []
    },
    {
      "cell_type": "markdown",
      "metadata": {
        "id": "HerTd0HmzrMI"
      },
      "source": [
        "# Dataset\n"
      ]
    },
    {
      "cell_type": "markdown",
      "metadata": {
        "id": "G8dQkOLK45QD"
      },
      "source": [
        "## Sklearn Datasets"
      ]
    },
    {
      "cell_type": "code",
      "metadata": {
        "id": "hYY3nytuzm2f"
      },
      "source": [
        "from sklearn import datasets"
      ],
      "execution_count": null,
      "outputs": []
    },
    {
      "cell_type": "code",
      "metadata": {
        "id": "ySSYDDH-0N2h"
      },
      "source": [
        "dataset = datasets.load_breast_cancer()"
      ],
      "execution_count": null,
      "outputs": []
    },
    {
      "cell_type": "code",
      "metadata": {
        "id": "ahQ700AI08-9"
      },
      "source": [
        "df = pd.DataFrame(dataset.data, columns=dataset.feature_names)\n",
        "df['target'] = dataset.target\n",
        "X = df.drop(columns=['target'])\n",
        "y = df['target']"
      ],
      "execution_count": null,
      "outputs": []
    },
    {
      "cell_type": "markdown",
      "metadata": {
        "id": "vt_4axSo9F-4"
      },
      "source": [
        "## csv extracted dataset"
      ]
    },
    {
      "cell_type": "code",
      "metadata": {
        "id": "D6cbAXdoFUcC"
      },
      "source": [
        ""
      ],
      "execution_count": null,
      "outputs": []
    },
    {
      "cell_type": "markdown",
      "metadata": {
        "id": "SHaaPB4p1UKY"
      },
      "source": [
        "## **Train Test Splitting**"
      ]
    },
    {
      "cell_type": "code",
      "metadata": {
        "id": "S3eodiXp1ksA"
      },
      "source": [
        "from sklearn.model_selection import train_test_split\n",
        "splitRatio=0.2\n",
        "X_train, X_test, y_train, y_test = train_test_split(X, y,\n",
        "                                                    test_size =splitRatio,\n",
        "                                                    stratify=None)\n",
        "#stratify used to equally sample target class"
      ],
      "execution_count": null,
      "outputs": []
    },
    {
      "cell_type": "markdown",
      "metadata": {
        "id": "V25Zajjj9Toz"
      },
      "source": [
        "# ML Models"
      ]
    },
    {
      "cell_type": "markdown",
      "metadata": {
        "id": "GRLYn95l9W1i"
      },
      "source": [
        "### Decision Tree Classifier/Regressor"
      ]
    },
    {
      "cell_type": "code",
      "metadata": {
        "id": "cXmkiH4NsTJm"
      },
      "source": [
        "from sklearn.tree import DecisionTreeClassifier"
      ],
      "execution_count": null,
      "outputs": []
    },
    {
      "cell_type": "code",
      "metadata": {
        "id": "B-DEWLA-Eewt"
      },
      "source": [
        "dt=DecisionTreeClassifier()\n",
        "dt.fit(X_train,y_train)\n",
        "y_pred=dt.predict(X_test)\n",
        "y_pred_proba=dt.predict_proba(X_test)[:,1]  #for positive class\n",
        "myModel=dt"
      ],
      "execution_count": null,
      "outputs": []
    },
    {
      "cell_type": "markdown",
      "metadata": {
        "id": "AZzoe1QrDV8e"
      },
      "source": [
        "### K Nearest Neighbours"
      ]
    },
    {
      "cell_type": "code",
      "metadata": {
        "id": "wB7IDDmNsQEb"
      },
      "source": [
        "from sklearn.neighbors import KNeighborsClassifier"
      ],
      "execution_count": null,
      "outputs": []
    },
    {
      "cell_type": "code",
      "metadata": {
        "colab": {
          "base_uri": "https://localhost:8080/"
        },
        "id": "_o9ab3aq9cf_",
        "outputId": "6f313aaa-abef-4226-dfba-7cf66240c872"
      },
      "source": [
        "knn = KNeighborsClassifier(n_neighbors=6)\n",
        "knn.fit(X_train, y_train)\n",
        "y_pred=knn.predict(X_test)\n",
        "print(knn.score(X_test, y_test))\n",
        "myModel=knn"
      ],
      "execution_count": null,
      "outputs": [
        {
          "output_type": "stream",
          "text": [
            "0.9122807017543859\n"
          ],
          "name": "stdout"
        }
      ]
    },
    {
      "cell_type": "markdown",
      "metadata": {
        "id": "cM-vDjhbFypS"
      },
      "source": [
        "# XGBOOST"
      ]
    },
    {
      "cell_type": "markdown",
      "metadata": {
        "id": "90ZoflxkuQtD"
      },
      "source": [
        "Used(Best) for supervised learning where,\n",
        "\n",
        "\n",
        "*   Number of feature < number of sample\n",
        "*   Mixture of numerical and categorical variable or only numerical variables\n",
        "\n",
        "Not used in Compuer vision, NLP and small datasets \n"
      ]
    },
    {
      "cell_type": "code",
      "metadata": {
        "id": "pU4mxPHJr2K4"
      },
      "source": [
        "import xgboost as xgb"
      ],
      "execution_count": null,
      "outputs": []
    },
    {
      "cell_type": "code",
      "metadata": {
        "colab": {
          "base_uri": "https://localhost:8080/"
        },
        "id": "S3bA4tfhF4-x",
        "outputId": "a9b446d2-6d4d-4404-81da-3972cacf4ea0"
      },
      "source": [
        "xg_cl = xgb.XGBClassifier(objective='binary:logistic', n_estimators=10, seed=123)\n",
        "xg_cl.fit(X_train,y_train)\n",
        "y_pred = xg_cl.predict(X_test)\n",
        "accuracy = float(np.sum(y_pred==y_test))/y_test.shape[0]\n",
        "print(\"accuracy: %f\" % (accuracy))"
      ],
      "execution_count": null,
      "outputs": [
        {
          "output_type": "stream",
          "text": [
            "accuracy: 0.929825\n"
          ],
          "name": "stdout"
        }
      ]
    },
    {
      "cell_type": "markdown",
      "metadata": {
        "id": "YZcGL0yxrskj"
      },
      "source": [
        "## XGBOOST with cross validation"
      ]
    },
    {
      "cell_type": "markdown",
      "metadata": {
        "id": "GM1uJXvKsYRO"
      },
      "source": [
        "`nfold` is the number of cross-validation folds, `num_boost_round` is the number of trees we want to build"
      ]
    },
    {
      "cell_type": "code",
      "metadata": {
        "id": "oP-XXrxRrcxI"
      },
      "source": [
        "myDMatrix = xgb.DMatrix(data=X, label=y)\n",
        "params = {\"objective\":\"reg:logistic\", \"max_depth\":3}\n",
        "cv_results = xgb.cv(dtrain=myDMatrix, params=params, \n",
        "                  nfold=3, num_boost_round=5, \n",
        "                  metrics=\"error\", as_pandas=True, seed=123)"
      ],
      "execution_count": null,
      "outputs": []
    },
    {
      "cell_type": "code",
      "metadata": {
        "colab": {
          "base_uri": "https://localhost:8080/"
        },
        "id": "GLyIDcw7sXTl",
        "outputId": "213110ce-102a-4ef6-c16c-a9bc31eb2176"
      },
      "source": [
        "print(cv_results)\n",
        "print(((1-cv_results[\"test-error-mean\"]).iloc[-1]))"
      ],
      "execution_count": null,
      "outputs": [
        {
          "output_type": "stream",
          "text": [
            "   train-error-mean  train-error-std  test-error-mean  test-error-std\n",
            "0          0.025480         0.002451         0.066824        0.019564\n",
            "1          0.021969         0.001257         0.061524        0.013876\n",
            "2          0.014945         0.006589         0.056252        0.010004\n",
            "3          0.012306         0.003300         0.052734        0.011418\n",
            "4          0.010549         0.004314         0.054497        0.012485\n",
            "0.9455026666666666\n"
          ],
          "name": "stdout"
        }
      ]
    },
    {
      "cell_type": "markdown",
      "metadata": {
        "id": "McyPa4yU-LCE"
      },
      "source": [
        "# Scores"
      ]
    },
    {
      "cell_type": "markdown",
      "metadata": {
        "id": "3uDIFTk3-dKY"
      },
      "source": [
        "### For Classification Problems"
      ]
    },
    {
      "cell_type": "code",
      "metadata": {
        "id": "UXwDdfTc-ODS",
        "colab": {
          "base_uri": "https://localhost:8080/"
        },
        "outputId": "10d4cc81-ec9c-4f03-9970-2533ef480340"
      },
      "source": [
        "from sklearn.metrics import accuracy_score\n",
        "acc_score=accuracy_score(y_pred,y_test)\n",
        "print(\"Accuracy score: \",acc_score)"
      ],
      "execution_count": null,
      "outputs": [
        {
          "output_type": "stream",
          "text": [
            "Accuracy score:  0.9298245614035088\n"
          ],
          "name": "stdout"
        }
      ]
    },
    {
      "cell_type": "markdown",
      "metadata": {
        "id": "CzGyDNPz-h7F"
      },
      "source": [
        "### For regression Problems"
      ]
    },
    {
      "cell_type": "code",
      "metadata": {
        "id": "uHWc4yHMDiOc",
        "colab": {
          "base_uri": "https://localhost:8080/"
        },
        "outputId": "8da369d3-0e9a-49f4-9a64-7ea593bbf52b"
      },
      "source": [
        "from sklearn.metrics import mean_squared_error as MSE\n",
        "mse=MSE(y_pred,y_test)\n",
        "rmse=mse**.5\n",
        "print(\"Root mean squared error score: \",rmse)"
      ],
      "execution_count": null,
      "outputs": [
        {
          "output_type": "stream",
          "text": [
            "Root mean squared error score:  0.26490647141300877\n"
          ],
          "name": "stdout"
        }
      ]
    },
    {
      "cell_type": "markdown",
      "metadata": {
        "id": "WVj-gRRHDxmW"
      },
      "source": [
        "### For PredicProba"
      ]
    },
    {
      "cell_type": "code",
      "metadata": {
        "id": "ReGjdIocD1US",
        "colab": {
          "base_uri": "https://localhost:8080/"
        },
        "outputId": "2d352891-4f66-446d-f1b6-22dcc6ae49f5"
      },
      "source": [
        "from sklearn.metrics import roc_auc_score\n",
        "roc_auc=roc_auc_score(y_test,y_pred_proba)\n",
        "print(\"ROC score: \",roc_auc)"
      ],
      "execution_count": null,
      "outputs": [
        {
          "output_type": "stream",
          "text": [
            "ROC score:  0.928414442700157\n"
          ],
          "name": "stdout"
        }
      ]
    },
    {
      "cell_type": "markdown",
      "metadata": {
        "id": "lxgmnYVnNE-V"
      },
      "source": [
        "# Ensemble Learning"
      ]
    },
    {
      "cell_type": "code",
      "metadata": {
        "id": "haH1kFwoNJQC"
      },
      "source": [
        ""
      ],
      "execution_count": null,
      "outputs": []
    },
    {
      "cell_type": "markdown",
      "metadata": {
        "id": "ogiR5Elezvjt"
      },
      "source": [
        "# HyperParameter Tuning\n",
        "\n",
        "---\n",
        "\n",
        "\n",
        "1.   Grid Search\n",
        "2.   \n",
        "\n",
        "\n",
        "\n",
        "\n",
        "\n"
      ]
    },
    {
      "cell_type": "markdown",
      "metadata": {
        "id": "UnVJL4U1J3Sz"
      },
      "source": [
        "### Grid Search"
      ]
    },
    {
      "cell_type": "code",
      "metadata": {
        "id": "AXhkUov40Ic1",
        "colab": {
          "base_uri": "https://localhost:8080/"
        },
        "outputId": "37ae76d3-251f-4154-a531-35c6ff012792"
      },
      "source": [
        "from sklearn.model_selection import GridSearchCV\n",
        "params_dt={\n",
        "    'max_depth': [3,4,5,6],\n",
        "    'min_samples_leaf': [.04,.06,.08],\n",
        "    'max_features': [.2,.4,.6,.8]\n",
        "}\n",
        "myGrid=GridSearchCV(estimator=dt,\n",
        "                     param_grid=params_dt,\n",
        "                     scoring='accuracy',  \n",
        "                     #scoring='neg_mean_squared_error',\n",
        "                     cv=10,\n",
        "                     n_jobs=-1)\n",
        "myGrid.fit(X_train,y_train)"
      ],
      "execution_count": null,
      "outputs": [
        {
          "output_type": "execute_result",
          "data": {
            "text/plain": [
              "GridSearchCV(cv=10, error_score=nan,\n",
              "             estimator=DecisionTreeClassifier(ccp_alpha=0.0, class_weight=None,\n",
              "                                              criterion='gini', max_depth=None,\n",
              "                                              max_features=None,\n",
              "                                              max_leaf_nodes=None,\n",
              "                                              min_impurity_decrease=0.0,\n",
              "                                              min_impurity_split=None,\n",
              "                                              min_samples_leaf=1,\n",
              "                                              min_samples_split=2,\n",
              "                                              min_weight_fraction_leaf=0.0,\n",
              "                                              presort='deprecated',\n",
              "                                              random_state=None,\n",
              "                                              splitter='best'),\n",
              "             iid='deprecated', n_jobs=-1,\n",
              "             param_grid={'max_depth': [3, 4, 5, 6],\n",
              "                         'max_features': [0.2, 0.4, 0.6, 0.8],\n",
              "                         'min_samples_leaf': [0.04, 0.06, 0.08]},\n",
              "             pre_dispatch='2*n_jobs', refit=True, return_train_score=False,\n",
              "             scoring='accuracy', verbose=0)"
            ]
          },
          "metadata": {
            "tags": []
          },
          "execution_count": 31
        }
      ]
    },
    {
      "cell_type": "code",
      "metadata": {
        "colab": {
          "base_uri": "https://localhost:8080/"
        },
        "id": "rsMEwyMjGMY-",
        "outputId": "85367c05-e325-458b-a3cb-9365ffdf10b5"
      },
      "source": [
        "best_hyperparams=myGrid.best_params_\n",
        "print('Best Hyperparameters: ', best_hyperparams)"
      ],
      "execution_count": null,
      "outputs": [
        {
          "output_type": "stream",
          "text": [
            "Best Hyperparameters:  {'max_depth': 5, 'max_features': 0.8, 'min_samples_leaf': 0.04}\n"
          ],
          "name": "stdout"
        }
      ]
    },
    {
      "cell_type": "code",
      "metadata": {
        "id": "bRhK2RVGGeuv"
      },
      "source": [
        "best_model=myGrid.best_estimator_"
      ],
      "execution_count": null,
      "outputs": []
    },
    {
      "cell_type": "code",
      "metadata": {
        "id": "xN0OgrfSLVlL"
      },
      "source": [
        ""
      ],
      "execution_count": null,
      "outputs": []
    }
  ]
}