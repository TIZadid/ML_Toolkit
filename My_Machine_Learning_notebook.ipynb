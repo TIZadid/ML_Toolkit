{
  "nbformat": 4,
  "nbformat_minor": 0,
  "metadata": {
    "colab": {
      "name": "My Machine Learning notebook.ipynb",
      "provenance": [],
      "toc_visible": true,
      "authorship_tag": "ABX9TyPSxT1UisjmEdAmfPLwfgWd",
      "include_colab_link": true
    },
    "kernelspec": {
      "name": "python3",
      "display_name": "Python 3"
    },
    "language_info": {
      "name": "python"
    }
  },
  "cells": [
    {
      "cell_type": "markdown",
      "metadata": {
        "id": "view-in-github",
        "colab_type": "text"
      },
      "source": [
        "<a href=\"https://colab.research.google.com/github/TIZadid/ML_Toolkit/blob/main/My_Machine_Learning_notebook.ipynb\" target=\"_parent\"><img src=\"https://colab.research.google.com/assets/colab-badge.svg\" alt=\"Open In Colab\"/></a>"
      ]
    },
    {
      "cell_type": "markdown",
      "metadata": {
        "id": "CWIsBkE31BgM"
      },
      "source": [
        "# Packages"
      ]
    },
    {
      "cell_type": "code",
      "metadata": {
        "id": "gZ4Gl3zi1FcO"
      },
      "source": [
        "import pandas as pd\n",
        "import numpy as np\n",
        "import matplotlib as plt"
      ],
      "execution_count": null,
      "outputs": []
    },
    {
      "cell_type": "markdown",
      "metadata": {
        "id": "HerTd0HmzrMI"
      },
      "source": [
        "# Dataset\n"
      ]
    },
    {
      "cell_type": "markdown",
      "metadata": {
        "id": "G8dQkOLK45QD"
      },
      "source": [
        "## Sklearn Datasets"
      ]
    },
    {
      "cell_type": "code",
      "metadata": {
        "id": "hYY3nytuzm2f"
      },
      "source": [
        "from sklearn import datasets"
      ],
      "execution_count": null,
      "outputs": []
    },
    {
      "cell_type": "code",
      "metadata": {
        "id": "ySSYDDH-0N2h"
      },
      "source": [
        "dataset = datasets.load_breast_cancer()"
      ],
      "execution_count": null,
      "outputs": []
    },
    {
      "cell_type": "code",
      "metadata": {
        "id": "ahQ700AI08-9"
      },
      "source": [
        "df = pd.DataFrame(dataset.data, columns=data.feature_names)\n",
        "df['target'] = dataset.target\n",
        "X = df.drop(columns=['target'])\n",
        "y = df['target']"
      ],
      "execution_count": null,
      "outputs": []
    },
    {
      "cell_type": "markdown",
      "metadata": {
        "id": "vt_4axSo9F-4"
      },
      "source": [
        "## csv extracted dataset"
      ]
    },
    {
      "cell_type": "markdown",
      "metadata": {
        "id": "SHaaPB4p1UKY"
      },
      "source": [
        "## **Train Test Splitting**"
      ]
    },
    {
      "cell_type": "code",
      "metadata": {
        "id": "S3eodiXp1ksA"
      },
      "source": [
        "from sklearn.model_selection import train_test_split\n",
        "splitRatio=0.2\n",
        "X_train, X_test, y_train, y_test = train_test_split(X, y,\n",
        "                                                    test_size =splitRatio,\n",
        "                                                    stratify=None)\n",
        "#stratify used to equally sample target class"
      ],
      "execution_count": null,
      "outputs": []
    },
    {
      "cell_type": "markdown",
      "metadata": {
        "id": "V25Zajjj9Toz"
      },
      "source": [
        "# ML Models"
      ]
    },
    {
      "cell_type": "markdown",
      "metadata": {
        "id": "GRLYn95l9W1i"
      },
      "source": [
        "## Decision Tree Classifier/Regressor"
      ]
    },
    {
      "cell_type": "code",
      "metadata": {
        "colab": {
          "base_uri": "https://localhost:8080/"
        },
        "id": "_o9ab3aq9cf_",
        "outputId": "ddef57f4-849a-4782-c22a-d228a2016c9c"
      },
      "source": [
        "from sklearn.neighbors import KNeighborsClassifier\n",
        "knn = KNeighborsClassifier(n_neighbors=6)\n",
        "knn.fit(X_train, y_train)\n",
        "knn.predict(X_test)\n",
        "print(knn.score(X_test, y_test))\n"
      ],
      "execution_count": null,
      "outputs": [
        {
          "output_type": "stream",
          "text": [
            "0.9298245614035088\n"
          ],
          "name": "stdout"
        }
      ]
    },
    {
      "cell_type": "markdown",
      "metadata": {
        "id": "McyPa4yU-LCE"
      },
      "source": [
        "# Scores"
      ]
    },
    {
      "cell_type": "markdown",
      "metadata": {
        "id": "3uDIFTk3-dKY"
      },
      "source": [
        "## For Classification Problems"
      ]
    },
    {
      "cell_type": "code",
      "metadata": {
        "id": "UXwDdfTc-ODS"
      },
      "source": [
        "from sklearn.metrics import accuracy_score\n",
        "acc_score=accuracy_score(y_pred,y_test)"
      ],
      "execution_count": null,
      "outputs": []
    },
    {
      "cell_type": "markdown",
      "metadata": {
        "id": "CzGyDNPz-h7F"
      },
      "source": [
        "## For regression Problems"
      ]
    },
    {
      "cell_type": "markdown",
      "metadata": {
        "id": "ogiR5Elezvjt"
      },
      "source": [
        "# HyperParameter Tuning\n",
        "\n",
        "---\n",
        "\n",
        "\n",
        "1.   Grid Search\n",
        "2.   \n",
        "\n",
        "\n",
        "\n",
        "\n",
        "\n"
      ]
    },
    {
      "cell_type": "code",
      "metadata": {
        "id": "AXhkUov40Ic1"
      },
      "source": [
        "from sklearn."
      ],
      "execution_count": null,
      "outputs": []
    }
  ]
}